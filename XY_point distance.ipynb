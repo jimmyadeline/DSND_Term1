{
 "cells": [
  {
   "cell_type": "code",
   "execution_count": 27,
   "metadata": {
    "collapsed": true
   },
   "outputs": [],
   "source": [
    "import math\n",
    "import numpy as np\n",
    "import pandas as pd"
   ]
  },
  {
   "cell_type": "code",
   "execution_count": 28,
   "metadata": {
    "collapsed": false
   },
   "outputs": [],
   "source": [
    "inputfilename = \"zcta_SEC.csv\"\n",
    "dataframe = pd.read_csv(inputfilename)"
   ]
  },
  {
   "cell_type": "code",
   "execution_count": 29,
   "metadata": {
    "collapsed": false
   },
   "outputs": [
    {
     "name": "stdout",
     "output_type": "stream",
     "text": [
      "2069\n"
     ]
    }
   ],
   "source": [
    "dataframe.head()\n",
    "row=dataframe.shape[0]\n",
    "print(row)"
   ]
  },
  {
   "cell_type": "code",
   "execution_count": 30,
   "metadata": {
    "collapsed": false
   },
   "outputs": [],
   "source": [
    "def distance(lat1, lon1, lat2, lon2):\n",
    "    radius = 6371 # km\n",
    "\n",
    "    dlat = math.radians(lat2-lat1)\n",
    "    dlon = math.radians(lon2-lon1)\n",
    "    a = math.sin(dlat/2) * math.sin(dlat/2) + math.cos(math.radians(lat1)) \\\n",
    "        * math.cos(math.radians(lat2)) * math.sin(dlon/2) * math.sin(dlon/2)\n",
    "    c = 2 * math.atan2(math.sqrt(a), math.sqrt(1-a))\n",
    "    d = radius * c\n",
    "    return d"
   ]
  },
  {
   "cell_type": "code",
   "execution_count": 31,
   "metadata": {
    "collapsed": false
   },
   "outputs": [
    {
     "data": {
      "text/html": [
       "<div>\n",
       "<table border=\"1\" class=\"dataframe\">\n",
       "  <thead>\n",
       "    <tr style=\"text-align: right;\">\n",
       "      <th></th>\n",
       "      <th>latitude</th>\n",
       "      <th>longitude</th>\n",
       "    </tr>\n",
       "  </thead>\n",
       "  <tbody>\n",
       "    <tr>\n",
       "      <th>0</th>\n",
       "      <td>32.9128</td>\n",
       "      <td>-96.7717</td>\n",
       "    </tr>\n",
       "    <tr>\n",
       "      <th>1</th>\n",
       "      <td>32.9128</td>\n",
       "      <td>-96.7717</td>\n",
       "    </tr>\n",
       "    <tr>\n",
       "      <th>2</th>\n",
       "      <td>32.9128</td>\n",
       "      <td>-96.7717</td>\n",
       "    </tr>\n",
       "    <tr>\n",
       "      <th>3</th>\n",
       "      <td>32.9128</td>\n",
       "      <td>-96.7717</td>\n",
       "    </tr>\n",
       "    <tr>\n",
       "      <th>4</th>\n",
       "      <td>32.9128</td>\n",
       "      <td>-96.7717</td>\n",
       "    </tr>\n",
       "  </tbody>\n",
       "</table>\n",
       "</div>"
      ],
      "text/plain": [
       "   latitude  longitude\n",
       "0   32.9128   -96.7717\n",
       "1   32.9128   -96.7717\n",
       "2   32.9128   -96.7717\n",
       "3   32.9128   -96.7717\n",
       "4   32.9128   -96.7717"
      ]
     },
     "execution_count": 31,
     "metadata": {},
     "output_type": "execute_result"
    }
   ],
   "source": [
    "origin=dataframe[['latitude','longitude']]\n",
    "origin.head()"
   ]
  },
  {
   "cell_type": "code",
   "execution_count": 32,
   "metadata": {
    "collapsed": false
   },
   "outputs": [
    {
     "data": {
      "text/html": [
       "<div>\n",
       "<table border=\"1\" class=\"dataframe\">\n",
       "  <thead>\n",
       "    <tr style=\"text-align: right;\">\n",
       "      <th></th>\n",
       "      <th>intptlat</th>\n",
       "      <th>intptlong</th>\n",
       "    </tr>\n",
       "  </thead>\n",
       "  <tbody>\n",
       "    <tr>\n",
       "      <th>0</th>\n",
       "      <td>32.9117</td>\n",
       "      <td>-96.6748</td>\n",
       "    </tr>\n",
       "    <tr>\n",
       "      <th>1</th>\n",
       "      <td>32.8735</td>\n",
       "      <td>-96.7475</td>\n",
       "    </tr>\n",
       "    <tr>\n",
       "      <th>2</th>\n",
       "      <td>32.9441</td>\n",
       "      <td>-96.8001</td>\n",
       "    </tr>\n",
       "    <tr>\n",
       "      <th>3</th>\n",
       "      <td>32.9916</td>\n",
       "      <td>-96.6629</td>\n",
       "    </tr>\n",
       "    <tr>\n",
       "      <th>4</th>\n",
       "      <td>32.8326</td>\n",
       "      <td>-96.8491</td>\n",
       "    </tr>\n",
       "  </tbody>\n",
       "</table>\n",
       "</div>"
      ],
      "text/plain": [
       "   intptlat  intptlong\n",
       "0   32.9117   -96.6748\n",
       "1   32.8735   -96.7475\n",
       "2   32.9441   -96.8001\n",
       "3   32.9916   -96.6629\n",
       "4   32.8326   -96.8491"
      ]
     },
     "execution_count": 32,
     "metadata": {},
     "output_type": "execute_result"
    }
   ],
   "source": [
    "destination=dataframe[['intptlat','intptlong']]\n",
    "destination.head()"
   ]
  },
  {
   "cell_type": "code",
   "execution_count": 33,
   "metadata": {
    "collapsed": false
   },
   "outputs": [
    {
     "data": {
      "text/plain": [
       "32.912799999999997"
      ]
     },
     "execution_count": 33,
     "metadata": {},
     "output_type": "execute_result"
    }
   ],
   "source": [
    "origin.iloc[0][\"latitude\"]"
   ]
  },
  {
   "cell_type": "code",
   "execution_count": 34,
   "metadata": {
    "collapsed": false
   },
   "outputs": [
    {
     "data": {
      "text/plain": [
       "9.04630148456169"
      ]
     },
     "execution_count": 34,
     "metadata": {},
     "output_type": "execute_result"
    }
   ],
   "source": [
    "distance(origin.iloc[0][\"latitude\"],origin.iloc[0][\"longitude\"],destination.iloc[0][\"intptlat\"],destination.iloc[0][\"intptlong\"])"
   ]
  },
  {
   "cell_type": "code",
   "execution_count": 35,
   "metadata": {
    "collapsed": true
   },
   "outputs": [],
   "source": [
    "lst = []\n",
    "for x in range(0, row):\n",
    "    lst.append(distance(origin.iloc[x][\"latitude\"],origin.iloc[x][\"longitude\"],destination.iloc[x][\"intptlat\"],destination.iloc[x][\"intptlong\"]))"
   ]
  },
  {
   "cell_type": "code",
   "execution_count": 36,
   "metadata": {
    "collapsed": false
   },
   "outputs": [
    {
     "data": {
      "text/plain": [
       "2069"
      ]
     },
     "execution_count": 36,
     "metadata": {},
     "output_type": "execute_result"
    }
   ],
   "source": [
    "len(lst)"
   ]
  },
  {
   "cell_type": "code",
   "execution_count": 37,
   "metadata": {
    "collapsed": false
   },
   "outputs": [],
   "source": [
    "se = pd.Series(lst)\n",
    "dataframe['distance'] = se.values"
   ]
  },
  {
   "cell_type": "code",
   "execution_count": 38,
   "metadata": {
    "collapsed": false
   },
   "outputs": [
    {
     "data": {
      "text/html": [
       "<div>\n",
       "<table border=\"1\" class=\"dataframe\">\n",
       "  <thead>\n",
       "    <tr style=\"text-align: right;\">\n",
       "      <th></th>\n",
       "      <th>input_fid</th>\n",
       "      <th>near_fid</th>\n",
       "      <th>distance</th>\n",
       "      <th>zcta5</th>\n",
       "      <th>intptlat</th>\n",
       "      <th>intptlong</th>\n",
       "      <th>sec_no</th>\n",
       "      <th>name</th>\n",
       "      <th>address</th>\n",
       "      <th>city</th>\n",
       "      <th>zip</th>\n",
       "      <th>puma</th>\n",
       "      <th>latitude</th>\n",
       "      <th>longitude</th>\n",
       "      <th>open_</th>\n",
       "      <th>close_</th>\n",
       "      <th>licensenumber</th>\n",
       "      <th>ifec_close_date</th>\n",
       "    </tr>\n",
       "  </thead>\n",
       "  <tbody>\n",
       "    <tr>\n",
       "      <th>0</th>\n",
       "      <td>24</td>\n",
       "      <td>1</td>\n",
       "      <td>9.046301</td>\n",
       "      <td>75042</td>\n",
       "      <td>32.9117</td>\n",
       "      <td>-96.6748</td>\n",
       "      <td>1</td>\n",
       "      <td>MEDICAL CITY GREEN OAKS HOSPITAL</td>\n",
       "      <td>7808 CLODUS FIELDS DR</td>\n",
       "      <td>DALLAS</td>\n",
       "      <td>75251</td>\n",
       "      <td>2309</td>\n",
       "      <td>32.9128</td>\n",
       "      <td>-96.7717</td>\n",
       "      <td>198300</td>\n",
       "      <td>201800.0</td>\n",
       "      <td>NaN</td>\n",
       "      <td>NaN</td>\n",
       "    </tr>\n",
       "    <tr>\n",
       "      <th>1</th>\n",
       "      <td>140</td>\n",
       "      <td>1</td>\n",
       "      <td>4.919552</td>\n",
       "      <td>75231</td>\n",
       "      <td>32.8735</td>\n",
       "      <td>-96.7475</td>\n",
       "      <td>1</td>\n",
       "      <td>MEDICAL CITY GREEN OAKS HOSPITAL</td>\n",
       "      <td>7808 CLODUS FIELDS DR</td>\n",
       "      <td>DALLAS</td>\n",
       "      <td>75251</td>\n",
       "      <td>2309</td>\n",
       "      <td>32.9128</td>\n",
       "      <td>-96.7717</td>\n",
       "      <td>198300</td>\n",
       "      <td>201800.0</td>\n",
       "      <td>NaN</td>\n",
       "      <td>NaN</td>\n",
       "    </tr>\n",
       "    <tr>\n",
       "      <th>2</th>\n",
       "      <td>159</td>\n",
       "      <td>1</td>\n",
       "      <td>4.374808</td>\n",
       "      <td>75254</td>\n",
       "      <td>32.9441</td>\n",
       "      <td>-96.8001</td>\n",
       "      <td>1</td>\n",
       "      <td>MEDICAL CITY GREEN OAKS HOSPITAL</td>\n",
       "      <td>7808 CLODUS FIELDS DR</td>\n",
       "      <td>DALLAS</td>\n",
       "      <td>75251</td>\n",
       "      <td>2309</td>\n",
       "      <td>32.9128</td>\n",
       "      <td>-96.7717</td>\n",
       "      <td>198300</td>\n",
       "      <td>201800.0</td>\n",
       "      <td>NaN</td>\n",
       "      <td>NaN</td>\n",
       "    </tr>\n",
       "    <tr>\n",
       "      <th>3</th>\n",
       "      <td>52</td>\n",
       "      <td>1</td>\n",
       "      <td>13.410189</td>\n",
       "      <td>75082</td>\n",
       "      <td>32.9916</td>\n",
       "      <td>-96.6629</td>\n",
       "      <td>1</td>\n",
       "      <td>MEDICAL CITY GREEN OAKS HOSPITAL</td>\n",
       "      <td>7808 CLODUS FIELDS DR</td>\n",
       "      <td>DALLAS</td>\n",
       "      <td>75251</td>\n",
       "      <td>2309</td>\n",
       "      <td>32.9128</td>\n",
       "      <td>-96.7717</td>\n",
       "      <td>198300</td>\n",
       "      <td>201800.0</td>\n",
       "      <td>NaN</td>\n",
       "      <td>NaN</td>\n",
       "    </tr>\n",
       "    <tr>\n",
       "      <th>4</th>\n",
       "      <td>144</td>\n",
       "      <td>1</td>\n",
       "      <td>11.479441</td>\n",
       "      <td>75235</td>\n",
       "      <td>32.8326</td>\n",
       "      <td>-96.8491</td>\n",
       "      <td>1</td>\n",
       "      <td>MEDICAL CITY GREEN OAKS HOSPITAL</td>\n",
       "      <td>7808 CLODUS FIELDS DR</td>\n",
       "      <td>DALLAS</td>\n",
       "      <td>75251</td>\n",
       "      <td>2309</td>\n",
       "      <td>32.9128</td>\n",
       "      <td>-96.7717</td>\n",
       "      <td>198300</td>\n",
       "      <td>201800.0</td>\n",
       "      <td>NaN</td>\n",
       "      <td>NaN</td>\n",
       "    </tr>\n",
       "  </tbody>\n",
       "</table>\n",
       "</div>"
      ],
      "text/plain": [
       "   input_fid  near_fid   distance  zcta5  intptlat  intptlong  sec_no  \\\n",
       "0         24         1   9.046301  75042   32.9117   -96.6748       1   \n",
       "1        140         1   4.919552  75231   32.8735   -96.7475       1   \n",
       "2        159         1   4.374808  75254   32.9441   -96.8001       1   \n",
       "3         52         1  13.410189  75082   32.9916   -96.6629       1   \n",
       "4        144         1  11.479441  75235   32.8326   -96.8491       1   \n",
       "\n",
       "                               name                address    city    zip  \\\n",
       "0  MEDICAL CITY GREEN OAKS HOSPITAL  7808 CLODUS FIELDS DR  DALLAS  75251   \n",
       "1  MEDICAL CITY GREEN OAKS HOSPITAL  7808 CLODUS FIELDS DR  DALLAS  75251   \n",
       "2  MEDICAL CITY GREEN OAKS HOSPITAL  7808 CLODUS FIELDS DR  DALLAS  75251   \n",
       "3  MEDICAL CITY GREEN OAKS HOSPITAL  7808 CLODUS FIELDS DR  DALLAS  75251   \n",
       "4  MEDICAL CITY GREEN OAKS HOSPITAL  7808 CLODUS FIELDS DR  DALLAS  75251   \n",
       "\n",
       "   puma  latitude  longitude   open_    close_  licensenumber ifec_close_date  \n",
       "0  2309   32.9128   -96.7717  198300  201800.0            NaN             NaN  \n",
       "1  2309   32.9128   -96.7717  198300  201800.0            NaN             NaN  \n",
       "2  2309   32.9128   -96.7717  198300  201800.0            NaN             NaN  \n",
       "3  2309   32.9128   -96.7717  198300  201800.0            NaN             NaN  \n",
       "4  2309   32.9128   -96.7717  198300  201800.0            NaN             NaN  "
      ]
     },
     "execution_count": 38,
     "metadata": {},
     "output_type": "execute_result"
    }
   ],
   "source": [
    "dataframe.head()"
   ]
  },
  {
   "cell_type": "code",
   "execution_count": 39,
   "metadata": {
    "collapsed": false
   },
   "outputs": [],
   "source": [
    "dataframe.to_csv(\"zcta_SEC.csv\", sep=',')"
   ]
  }
 ],
 "metadata": {
  "kernelspec": {
   "display_name": "Python 3",
   "language": "python",
   "name": "python3"
  },
  "language_info": {
   "codemirror_mode": {
    "name": "ipython",
    "version": 3
   },
   "file_extension": ".py",
   "mimetype": "text/x-python",
   "name": "python",
   "nbconvert_exporter": "python",
   "pygments_lexer": "ipython3",
   "version": "3.6.0"
  }
 },
 "nbformat": 4,
 "nbformat_minor": 2
}
